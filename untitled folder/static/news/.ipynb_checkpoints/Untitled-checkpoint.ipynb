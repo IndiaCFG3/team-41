{
 "cells": [
  {
   "cell_type": "code",
   "execution_count": 8,
   "metadata": {},
   "outputs": [
    {
     "name": "stdout",
     "output_type": "stream",
     "text": [
      "<class 'dict'>\n",
      "[['ESPN', 'Nick Pietruszkiewicz', \"Jason Day's third-round tee time was moved back at the Travelers Championship after he requested a COVID-19 test Saturday morning.\", 'https://www.espn.com/golf/story/_/id/29373773/jason-day-playing-solo-travelers-championship-taking-coronavirus-test', 'https://a3.espncdn.com/combiner/i?img=%2Fphoto%2F2019%2F0412%2Fr528345_1296x729_16%2D9.jpg', '2020-06-27T13:38:21Z', \"CROMWELL, Conn. -- Jason Day's third-round tee time was moved back at the Travelers Championship after he requested a coronavirus test Saturday morning.\\r\\nDay, who started the day nine shots behind le… [+2158 chars]\"], ['ESPN', 'NBA Insiders', 'Our analysts break down the biggest games, the races to watch and what they expect in the NBA postseason.', 'https://www.espn.com/nba/story/_/id/29370346/best-games-playoff-races-nba-title-favorites', 'https://a4.espncdn.com/combiner/i?img=%2Fphoto%2F2020%2F0626%2Fr712932_1296x729_16%2D9.jpg', '2020-06-27T12:39:27Z', \"After Friday's release of the new 2020 NBA schedule, it's time to look ahead at the games, players and teams that will be most compelling when the season resumes on July 30 at the ESPN Wide World of … [+10342 chars]\"], ['NBCSports.com', 'Mike Florio', 'Virtual workouts can still be literal hell. Jamison Hensley of ESPN.com explains that the Ravens’ virtual offseason workouts included the team’s notoriously challenging conditioning test. “It is pure death,” former Ravens running back Justin Forsett told Hens…', 'https://profootballtalk.nbcsports.com/2020/06/27/ravens-take-the-pure-death-conditioning-test-virtually/', 'https://profootballtalk.nbcsports.com/wp-content/uploads/sites/25/2020/06/GettyImages-1196924180-e1593261492577.jpg', '2020-06-27T12:39:00Z', 'Virtual workouts can still be literal hell.\\r\\nJamison Hensley of ESPN.com explains that the Ravens’ virtual offseason workouts included the team’s notoriously challenging conditioning test.\\r\\n“It is pu… [+1074 chars]'], ['Fox News', 'Victor Garcia', 'NASCAR driver Bubba Wallace told \"Watters\\' World\" in an interview airing Saturday that \"at the end of the day, I wouldn’t have changed anything\" about how he handled the discovery of a garage pull rope tied into a noose at his team\\'s assigned Talladega Supers…', 'https://www.foxnews.com/media/bubba-wallace-nascar-talladega-garage-rope-noose', 'https://static.foxnews.com/foxnews.com/content/uploads/2020/06/AP20174699500505.jpg', '2020-06-27T12:02:19Z', 'NASCAR driver Bubba Wallace told \"Watters\\' World\" in an interview airing Saturday that \"at the end of the day, I wouldn’t have changed anything\" about how he handled the discovery of a garage pull ro… [+2884 chars]'], ['ESPN', 'ESPN', \"Liverpool condemn fans who defied social distancing rules to celebrate the club's first league title in 30 years.\", 'https://www.espn.com/soccer/liverpool-engliverpool/story/4122402/liverpool-condemn-unacceptable-fans-behaviour-after-premier-league-title-win', 'https://a.espncdn.com/combiner/i?img=%2Fphoto%2F2020%2F0627%2Fr713120_1296x729_16%2D9.jpg', '2020-06-27T11:31:07Z', 'Liverpool have condemned their own supporters for \"wholly unacceptable\" behaviour after they defied social distancing rules in the city for the second consecutive night to celebrate the club\\'s first … [+2645 chars]'], ['USA Today', 'Gabe Lacques', \"MLB's extensive health and safety protocols could limit mascots' fun at the park, but a socially-distanced furry friend is better than none at all.\", 'https://www.usatoday.com/story/sports/mlb/2020/06/27/mlb-season-what-about-mascots/3268276001/', 'https://www.gannett-cdn.com/presto/2020/06/27/USAT/98c99768-6925-4246-907f-581a97565f08-2020-06-26_Bernie_Brewer.jpg?crop=2327,1309,x460,y126&width=1600&height=800&fit=bounds', '2020-06-27T11:18:56Z', 'SportsPulse: This baseball season will be a downright sprint and certifiably crazy. Mackenzie Salmon breaks down everything you need to know about the 2020 season with numbers.\\r\\nUSA TODAY\\r\\nIn the 101… [+3459 chars]'], ['Los Angeles Times', 'Jack Harris', 'One of the athletes who returned to the USC campus Wednesday for voluntary workouts tested positive for the coronavirus, the university says.', 'https://www.latimes.com/sports/usc/story/2020-06-26/usc-says-one-of-its-athletes-tested-positive-coronavirus', 'https://ca-times.brightspotcdn.com/dims4/default/675ba73/2147483647/strip/true/crop/3200x1680+0+0/resize/1200x630!/quality/90/?url=https%3A%2F%2Fcalifornia-times-brightspot.s3.amazonaws.com%2Fc4%2Fbf%2Fee463ac64b30a40270d54071a682%2Fla-photos-1staff-505705-la-me-ghost-campus-usc-13-als.jpg', '2020-06-27T11:17:45Z', 'One USC student-athlete has tested positive for COVID-19, the school said in a statement Friday.\\r\\nThe news comes after the Trojans began letting some local players return to campus Wednesday for volu… [+2598 chars]'], ['Formula 1', 'F1', 'Lewis Hamilton has vowed to “not stop pushing for an inclusive future” following comments comments made by former F1 CEO Bernie Ecclestone on race and equality.', 'https://www.formula1.com/en/latest/article.hamilton-says-ecclestone-comments-show-how-far-we-need-to-go.2UUyqtayltaClIxgCmHx9U.html', 'https://www.formula1.com/content/dam/fom-website/sutton/2020/Australia/Thursday/1211908982.jpg', '2020-06-27T11:14:06Z', 'Lewis Hamilton has vowed to not stop pushing for an inclusive future following recent comments made in an interview with CNN by former F1 CEO Bernie Ecclestone regarding race and equality.\\r\\nHamilton … [+1605 chars]'], ['Detroit Free Press', 'Helene St. James', \"Detroit Red Wings GM Steve Yzerman resisted ripping the NHL's draft lottery, which saw his team move from worst to fourth.\", 'https://www.freep.com/story/sports/nhl/red-wings/2020/06/27/steve-yzerman-detroit-red-wings-2020-nhl-draft-lottery/3268655001/', 'https://www.gannett-cdn.com/presto/2019/04/19/PDTF/1e40d6f9-51f3-482a-9517-dc7fff97a477-bush_041319_kd17220.jpg?crop=2292,1280,x0,y29&width=1600&height=800&fit=bounds', '2020-06-27T10:20:33Z', \"Detroit Red Wings GM Steve Yzerman on a Zoom call following the news he'll pick fourth in the 2020 draft.\\r\\nDetroit Free Press\\r\\nThe 2020 NHL draft lottery was exposed for its flaws, rewarding a team d… [+3347 chars]\"], ['SB Nation', 'Alexander Netherton', 'The Manchester United manager says, ‘think.’', 'https://thebusbybabe.sbnation.com/2020/6/27/21305268/paul-pogba-warned-by-ole-gunnar-solskjaer', 'https://cdn.vox-cdn.com/thumbor/iWmuOf87gSigyiEflqA5kYQZ688=/0x0:2817x1475/fit-in/1200x630/cdn.vox-cdn.com/uploads/chorus_asset/file/20056326/1252049090.jpg.jpg', '2020-06-27T08:54:16Z', 'Manchester United manager Ole Gunnar Solskjaer warned Paul Pogba that he wont want to end his career with regrets.\\r\\nPogba has been in poor form for United since his arrival from Juventus but in his l… [+1419 chars]'], ['TMZ', 'TMZ Staff', 'A witness who was at the Chipotle restaurant during the Darius Leonard incident tells TMZ Sports ... the NFL star did nothing wrong and insists he was in fact racially profiled.', 'https://www.tmz.com/2020/06/27/darius-leonard-chipotle-witness-says-nfl-star-racially-profiled/', 'https://imagez.tmz.com/image/72/16by9/2020/06/26/7221ece1c19141f099f61d4c604e41f1_xl.jpg', '2020-06-27T07:30:00Z', 'A witness who was at the Chipotle restaurant during the Darius Leonard incident tells TMZ Sports ... the NFL star did nothing wrong and insists Leonard was racially profiled.\\r\\nThe witness spoke to us… [+1207 chars]'], ['Bleacher Report', 'Paul Kasabian', 'MLB  outfielder Andrew  Toles  was arrested June 22 on a  misdemeanor charge of trespassing after police reportedly found him sleeping behind the Key West airport, per  Gwen  Filosa   of the  Miami Herald ...', 'https://bleacherreport.com/articles/2897898-dodgers-andrew-toles-arrested-after-being-found-sleeping-behind-florida-airport', 'https://img.bleacherreport.net/img/images/photos/003/874/125/hi-res-221e4d224015f1c469ac9743508e5200_crop_exact.jpg?w=1200&h=1200&q=75', '2020-06-27T05:13:27Z', 'Denis Poroy/Getty Images\\r\\nMLB outfielder Andrew Toles was arrested June 22 on a\\xa0misdemeanor charge of trespassing after police reportedly found him sleeping behind the Key West airport, per Gwen Filo… [+1383 chars]'], ['New York Daily News', 'Stefan Bondy', 'Two former Knicks blasted the new front office, with Rasheed Wallace calling the hirings of Leon Rose and William Wesley “a brain fart” by the organization and Stephon Marbury labeling Wesley, in particular, a “world wide sucker.”', 'https://www.nydailynews.com/sports/basketball/knicks/ny-rasheed-wallace-stephon-marbury-william-wesley-20200626-zyya5ui6jzbahkbjrio4kicviq-story.html', 'https://www.nydailynews.com/resizer/jYlmOnedLA1AXla98R9voZbvgXA=/1200x0/top/cloudfront-us-east-1.images.arcpublishing.com/tronc/XSVRMJE5NDQT35S6L3WGGE7ZKY.jpg', '2020-06-27T05:10:24Z', None], ['ESPN', 'Jeff Passan', 'After learning multiple co-workers at Globe Life Field have tested positive for the coronavirus, one Texas Rangers employee told ESPN\\'s Jeff Passan \"we are terrified for our safety\" while working in the team\\'s offices.', 'https://www.espn.com/mlb/story/_/id/29372448/rangers-staff-terrified-our-safety-amid-positive-virus-tests', 'https://a2.espncdn.com/combiner/i?img=%2Fphoto%2F2020%2F0506%2Fr695924_1296x729_16%2D9.jpg', '2020-06-27T04:20:10Z', 'Following the revelation that multiple co-workers had tested positive for the coronavirus, Texas Rangers employees told ESPN on Friday night that they fear for their health and hope the organization … [+4851 chars]'], ['Sports Illustrated', 'Chad Jensen', 'Broncos fans are still waiting to see Bryce Callahan suit up in the Orange and Blue and a recent workout video the veteran cornerback unveiled could be a harbinger that the wait will end in 2020.', 'https://www.si.com/nfl/broncos/news/denver-broncos-cb-bryce-callahan-shows-off-surgically-repaired-foot-in-workout-video', 'https://imageproxy.themaven.net/https%3A%2F%2Fimages.saymedia-content.com%2F.image%2FMTY4MzgwOTg4NTI1NjUxOTE0%2Fcallahan-maven.jpg?w=1024&q=40&h=576&auto=format&fit=max', '2020-06-27T03:14:00Z', \"One of the most frustrating aspects of the Denver Broncos' 2019 campaign was seeing two of the team's three prized free-agent acquisitions suffer season-ending injuries. In fairness, right tackle Ja'… [+3557 chars]\"], ['YouTube', None, \"As the NBA prepares for it's eventual return, Jalen Rose, Paul Pierce, Maria Taylor, Jay Williams and Adrian Wojnarowski take a look at the schedule to finis...\", 'https://www.youtube.com/watch?v=N7x2za7GKCM', 'https://i.ytimg.com/vi/N7x2za7GKCM/maxresdefault.jpg', '2020-06-27T03:01:21Z', None], ['USA Today', 'Ellen J. Horrow', 'Mike Krzyzewski, one of the most respected voices in college basketball history, made a powerful plea to end systemic racism and social injustice.', 'https://www.usatoday.com/story/sports/ncaab/acc/2020/06/26/mike-krzyzewski-duke-basketball-black-lives-matter-video/3268501001/', 'https://www.gannett-cdn.com/presto/2020/06/27/USAT/3960bd6c-0c5c-4eee-8aab-6dfc44fbd87e-duke.jpg?crop=1989,1119,x838,y19&width=3200&height=1680&fit=bounds', '2020-06-27T02:35:26Z', \"SportsPulse: Athletes took to social media to voice their anger over George Floyd's death, with many resurfacing photos of Colin Kaepernick's protest over criminal and social injustice. USA TODAY Spo… [+3198 chars]\"], ['Yahoo Entertainment', 'Ryan Young', 'Kristi Toliver and Chiney Ogwumike are just the latest WNBA stars to opt-out of the season in Florida.', 'https://sports.yahoo.com/wnba-los-angeles-sparks-chiney-ogwumike-kristi-toliver-opt-out-season-florida-coronavirus-covid19-pandemic-015044732.html', 'https://s.yimg.com/ny/api/res/1.2/VygA0kIQfaKKe.F8ePVkmw--/YXBwaWQ9aGlnaGxhbmRlcjt3PTEyODA7aD04NTMuMzMzMzMzMzMzMzMzNA--/https://s.yimg.com/uu/api/res/1.2/MJGpxHGm7EZsOj2EOmeOQw--~B/aD0xODI2O3c9MjczOTtzbT0xO2FwcGlkPXl0YWNoeW9u/https://media-mbst-pub-ue1.s3.amazonaws.com/creatr-images/2020-06/a7935270-b817-11ea-bf79-bd3461772452', '2020-06-27T01:50:00Z', 'When the Los Angeles Sparks head to Florida for the modified 2020 WNBA season, they will be doing so without two of their biggest stars.\\r\\nBoth guard Kristi Toliver and forward Chiney Ogwumike opted-o… [+3518 chars]'], ['GBMWolverine', 'Matthew Helmkamp', 'Michigan basketball found its way onto Chet Holmgrenu2019s top seven college destinations. Could he be the next Wolverine superstar? Chet Holmgren doesnu2019t ...', 'https://gbmwolverine.com/2020/06/26/chet-holmgren-michigan-basketballs-next-super-star/', 'https://images2.minutemediacdn.com/image/fetch/w_2000,h_2000,c_fit/https%3A%2F%2Fgbmwolverine.com%2Fwp-content%2Fuploads%2Fgetty-images%2F2018%2F08%2F1191821606.jpeg', '2020-06-27T01:38:44Z', 'Chet Holmgren doesn’t have to check the prospect ranking boards to bolster his confidence, he does so on the court by challenging the best basketball players in the country, not just fellow high scho… [+2371 chars]'], ['Mavs Moneyball', 'Kirk Henderson', 'The eight remaining games in the regular season are now confirmed', 'https://www.mavsmoneyball.com/2020/6/26/21305153/dallas-mavericks-schedule-in-orlando-released-luka-doncic', 'https://cdn.vox-cdn.com/thumbor/-XatYLmFPEvnI9foLs_2U-SlzMU=/0x8:3754x1973/fit-in/1200x630/cdn.vox-cdn.com/uploads/chorus_asset/file/20056128/1209369428.jpg.jpg', '2020-06-27T01:37:56Z', 'Friday evening the NBA released the upcoming schedule of games for the 22 teams invited to Disney World to finish the regular season. The first game for Dallas is on July 31st and the final game is t… [+1240 chars]']]\n"
     ]
    }
   ],
   "source": [
    "import json\n",
    "import requests\n",
    "def get_news(**kwargs):\n",
    "    url = ('http://newsapi.org/v2/top-headlines')\n",
    "    headers = {}\n",
    "    for key,value in kwargs.items():\n",
    "        headers[key] = value\n",
    "    headers['apiKey'] = '12c9bca8719543e9b9b8a50c24593c5e'\n",
    "    response = requests.get(url, params = headers)\n",
    "    this_news = response.json()\n",
    "    articles = this_news['articles']\n",
    "    all_articles = {}\n",
    "    for i,article in enumerate(articles):\n",
    "        this_article = []\n",
    "        source = article['source']['name']\n",
    "        this_article.append(source)\n",
    "        author = article['author']\n",
    "        this_article.append(author)\n",
    "        description = article['description']\n",
    "        this_article.append(description)\n",
    "        url = article['url']\n",
    "        this_article.append(url)\n",
    "        image_url = article['urlToImage']\n",
    "        this_article.append(image_url)\n",
    "        time = article['publishedAt']\n",
    "        this_article.append(time)\n",
    "        content = article['content']\n",
    "        this_article.append(content)\n",
    "        all_articles[i] = this_article\n",
    "    return all_articles\n",
    "print(get_news(country = \"us\", category = \"sports\"))\n"
   ]
  },
  {
   "cell_type": "code",
   "execution_count": null,
   "metadata": {},
   "outputs": [],
   "source": []
  }
 ],
 "metadata": {
  "kernelspec": {
   "display_name": "Python 3",
   "language": "python",
   "name": "python3"
  },
  "language_info": {
   "codemirror_mode": {
    "name": "ipython",
    "version": 3
   },
   "file_extension": ".py",
   "mimetype": "text/x-python",
   "name": "python",
   "nbconvert_exporter": "python",
   "pygments_lexer": "ipython3",
   "version": "3.7.7"
  }
 },
 "nbformat": 4,
 "nbformat_minor": 4
}
